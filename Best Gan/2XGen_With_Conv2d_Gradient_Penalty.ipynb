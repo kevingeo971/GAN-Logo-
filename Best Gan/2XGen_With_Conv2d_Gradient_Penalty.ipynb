{
  "nbformat": 4,
  "nbformat_minor": 0,
  "metadata": {
    "accelerator": "GPU",
    "colab": {
      "name": "Copy of 2XGen_With_Conv2d.ipynb",
      "provenance": [],
      "collapsed_sections": []
    },
    "kernelspec": {
      "name": "python3",
      "display_name": "Python 3"
    },
    "language_info": {
      "codemirror_mode": {
        "name": "ipython",
        "version": 3
      },
      "file_extension": ".py",
      "mimetype": "text/x-python",
      "name": "python",
      "nbconvert_exporter": "python",
      "pygments_lexer": "ipython3",
      "version": "3.7.3"
    }
  },
  "cells": [
    {
      "cell_type": "code",
      "metadata": {
        "colab_type": "code",
        "id": "PLnxRRqVya4R",
        "outputId": "bb47e1ea-1108-47c8-ee08-ebaa36bbc7e8",
        "colab": {
          "base_uri": "https://localhost:8080/",
          "height": 219
        }
      },
      "source": [
        "!wget https://data.vision.ee.ethz.ch/sagea/lld/data/LLD-logo.hdf5"
      ],
      "execution_count": 0,
      "outputs": [
        {
          "output_type": "stream",
          "text": [
            "--2019-11-21 00:26:23--  https://data.vision.ee.ethz.ch/sagea/lld/data/LLD-logo.hdf5\n",
            "Resolving data.vision.ee.ethz.ch (data.vision.ee.ethz.ch)... 129.132.52.162\n",
            "Connecting to data.vision.ee.ethz.ch (data.vision.ee.ethz.ch)|129.132.52.162|:443... connected.\n",
            "HTTP request sent, awaiting response... 200 OK\n",
            "Length: 13502317373 (13G)\n",
            "Saving to: ‘LLD-logo.hdf5’\n",
            "\n",
            "LLD-logo.hdf5       100%[===================>]  12.57G  18.8MB/s    in 11m 39s \n",
            "\n",
            "2019-11-21 00:38:03 (18.4 MB/s) - ‘LLD-logo.hdf5’ saved [13502317373/13502317373]\n",
            "\n"
          ],
          "name": "stdout"
        }
      ]
    },
    {
      "cell_type": "code",
      "metadata": {
        "colab_type": "code",
        "id": "Q13Xtqbsya4q",
        "colab": {}
      },
      "source": [
        "import torch \n",
        "import numpy as np\n",
        "import torch.nn as nn\n",
        "import torch.nn.functional as F\n",
        "from torch.utils.data import Dataset, DataLoader\n",
        "from torchvision import datasets, transforms\n",
        "from tqdm import tqdm_notebook, trange, tqdm\n",
        "import torchvision.transforms.functional as TF\n",
        "import torch.optim as optim\n",
        "import h5py\n",
        "import matplotlib.pyplot as plt\n",
        "from PIL import Image\n",
        "import cv2\n",
        "%matplotlib inline"
      ],
      "execution_count": 0,
      "outputs": []
    },
    {
      "cell_type": "code",
      "metadata": {
        "colab_type": "code",
        "id": "Em5rXEQgya5a",
        "colab": {}
      },
      "source": [
        "img_size = (32, 32)\n",
        "class HDF5LogoDataLoader(Dataset):\n",
        "    def __init__(self, hdf5_path='LLD-logo.hdf5', resize_shape=img_size):\n",
        "        self.hdf5_file = h5py.File(hdf5_path, 'r')\n",
        "        self.images = self.hdf5_file['data']\n",
        "        self.shapes = self.hdf5_file['shapes']\n",
        "        self.resize_shape = resize_shape\n",
        "\n",
        "    def __len__(self):\n",
        "        return len(self.images)\n",
        "\n",
        "    def transform_image(self, image):\n",
        "        image = image.transpose(1, 2, 0)\n",
        "        img_resized = cv2.resize(image, dsize=self.resize_shape)\n",
        "        img_resized_tensor = TF.to_tensor(img_resized)\n",
        "        # print(img_resized_tensor.max())\n",
        "        normalize_img = TF.normalize(img_resized_tensor, mean=[127.5,127.5,127.5], std=[127.5,127.5,127.5])\n",
        "        # print(normalize_img.max())\n",
        "        # print(normalize_img.min())\n",
        "        return normalize_img\n",
        "\n",
        "    def __getitem__(self, idx):\n",
        "        img_shape = self.shapes[idx]\n",
        "        # print(self.images[idx].shape)\n",
        "        img_without_padding = self.images[idx][:, :img_shape[1], :img_shape[2]]\n",
        "        return self.transform_image(img_without_padding)"
      ],
      "execution_count": 0,
      "outputs": []
    },
    {
      "cell_type": "code",
      "metadata": {
        "colab_type": "code",
        "id": "d2-C0465ya5y",
        "colab": {}
      },
      "source": [
        "hdf5_dataset = HDF5LogoDataLoader()"
      ],
      "execution_count": 0,
      "outputs": []
    },
    {
      "cell_type": "code",
      "metadata": {
        "colab_type": "code",
        "id": "tl6U16pbya6D",
        "colab": {}
      },
      "source": [
        "def undo_normalize(t, val):\n",
        " return t*val + val"
      ],
      "execution_count": 0,
      "outputs": []
    },
    {
      "cell_type": "code",
      "metadata": {
        "colab_type": "code",
        "id": "CXWMtxq1ya7k",
        "colab": {}
      },
      "source": [
        "img_size = (32, 32)"
      ],
      "execution_count": 0,
      "outputs": []
    },
    {
      "cell_type": "code",
      "metadata": {
        "colab_type": "code",
        "id": "vjLGrJ6nya76",
        "outputId": "e42c7d2b-461f-40b2-fe16-afdc286b9bb5",
        "colab": {
          "base_uri": "https://localhost:8080/",
          "height": 303
        }
      },
      "source": [
        "class Generator(nn.Module):\n",
        "    \n",
        "    def __init__(self):\n",
        "        super(Generator, self).__init__()\n",
        "        \n",
        "        self.conv1_1 = nn.ConvTranspose2d(100, 1024, 4, 1)\n",
        "        self.bn1_1 = nn.BatchNorm2d(1024)\n",
        "        self.conv1_2 = nn.Conv2d(1024, 1024, 3,padding=2)\n",
        "        self.bn1_2 = nn.BatchNorm2d(1024)\n",
        "        self.conv1_3 = nn.Conv2d(1024, 1024, 3,padding=1)\n",
        "        self.bn1_3 = nn.BatchNorm2d(1024)\n",
        "        \n",
        "        self.conv2_1 = nn.ConvTranspose2d(1024, 512, 4, 2, 1)\n",
        "        self.bn2_1 = nn.BatchNorm2d(512)\n",
        "        self.conv2_2 = nn.Conv2d(512, 512, 3, padding=2)\n",
        "        self.bn2_2 = nn.BatchNorm2d(512)\n",
        "        self.conv2_3 = nn.Conv2d(512, 512, 3,padding=1)\n",
        "        self.bn2_3 = nn.BatchNorm2d(512)\n",
        "        \n",
        "        self.conv3_1 = nn.ConvTranspose2d(512, 256, 4, 2, 1)\n",
        "        self.bn3_1 = nn.BatchNorm2d(256)\n",
        "        self.conv3_2 = nn.Conv2d(256, 256, 3, padding=2)\n",
        "        self.bn3_2 = nn.BatchNorm2d(256)\n",
        "        self.conv3_3 = nn.Conv2d(256, 256, 3, padding=1)\n",
        "        self.bn3_3 = nn.BatchNorm2d(256)\n",
        "        \n",
        "        self.conv4 = nn.ConvTranspose2d(256, 3, 3)\n",
        "  \n",
        "    def forward(self, latent_vector):\n",
        "        x = F.relu(self.bn1_1(self.conv1_1(latent_vector)))\n",
        "        x = F.relu(self.bn1_2(self.conv1_2(x)))\n",
        "        x = F.relu(self.bn1_3(self.conv1_3(x)))\n",
        "        \n",
        "        x = F.relu(self.bn2_1(self.conv2_1(x)))\n",
        "        x = F.relu(self.bn2_2(self.conv2_2(x)))\n",
        "        x = F.relu(self.bn2_3(self.conv2_3(x)))\n",
        "        \n",
        "        x = F.relu(self.bn3_1(self.conv3_1(x)))\n",
        "        x = F.relu(self.bn3_2(self.conv3_2(x)))\n",
        "        x = F.relu(self.bn3_3(self.conv3_3(x)))\n",
        "\n",
        "        x = torch.tanh(self.conv4(x))\n",
        "        return x\n",
        "\n",
        "gen = Generator()\n",
        "test = torch.randn(10, 100, 1, 1)\n",
        "#gen(test).shape\n",
        "\n",
        "output = gen(test)\n",
        "#print()\n",
        "print(output.shape)\n",
        "plt.imshow(undo_normalize(output[0], 127.5).detach().numpy().transpose(1, 2, 0).astype(np.uint8))"
      ],
      "execution_count": 0,
      "outputs": [
        {
          "output_type": "stream",
          "text": [
            "torch.Size([10, 3, 32, 32])\n"
          ],
          "name": "stdout"
        },
        {
          "output_type": "execute_result",
          "data": {
            "text/plain": [
              "<matplotlib.image.AxesImage at 0x7f16e3b124a8>"
            ]
          },
          "metadata": {
            "tags": []
          },
          "execution_count": 6
        },
        {
          "output_type": "display_data",
          "data": {
            "image/png": "[encoded data removed]",
            "text/plain": [
              "<Figure size 432x288 with 1 Axes>"
            ]
          },
          "metadata": {
            "tags": []
          }
        }
      ]
    },
    {
      "cell_type": "code",
      "metadata": {
        "colab_type": "code",
        "id": "Z8ymxL6Fya8A",
        "outputId": "53b5a627-a543-4d1b-af47-af2d65716370",
        "colab": {
          "base_uri": "https://localhost:8080/",
          "height": 35
        }
      },
      "source": [
        "class Discriminator(nn.Module):\n",
        "\n",
        "    def __init__  (self):\n",
        "\n",
        "        super(Discriminator, self).__init__()\n",
        "        \n",
        "        self.conv1_1 = nn.Conv2d(3, 256, 4, 2, 2)\n",
        "        self.bn1_1 = nn.BatchNorm2d(256)\n",
        "        self.conv1_2 = nn.Conv2d(256, 256, 3 )\n",
        "        self.bn1_2 = nn.BatchNorm2d(256)\n",
        "        self.conv1_3 = nn.Conv2d(256, 256, 3, padding=1)\n",
        "        self.bn1_3 = nn.BatchNorm2d(256)\n",
        "\n",
        "        self.conv2_1 = nn.Conv2d(256, 512, 4, 2, 2)\n",
        "        self.bn2_1 = nn.BatchNorm2d(512)\n",
        "        self.conv2_2 = nn.Conv2d(512, 512, 3)\n",
        "        self.bn2_2 = nn.BatchNorm2d(512)\n",
        "        self.conv2_3 = nn.Conv2d(512, 512, 3, padding=1)\n",
        "        self.bn2_3 = nn.BatchNorm2d(512)\n",
        "\n",
        "        self.conv3_1 = nn.Conv2d(512, 1024, 4, 2, 2)\n",
        "        self.bn3_1 = nn.BatchNorm2d(1024)\n",
        "        self.conv3_2 = nn.Conv2d(1024, 1024, 3)\n",
        "        self.bn3_2 = nn.BatchNorm2d(1024)\n",
        "        self.conv3_3 = nn.Conv2d(1024, 1024, 3, padding=1)\n",
        "        self.bn3_3 = nn.BatchNorm2d(1024)\n",
        "        \n",
        "        self.conv4 = nn.Conv2d(1024, 1, 2)\n",
        "        \n",
        "        \n",
        "\n",
        "    def forward(self, img):\n",
        "        x = F.leaky_relu(self.bn1_1(self.conv1_1(img)),negative_slope=0.2)\n",
        "        x = F.leaky_relu(self.bn1_2(self.conv1_2(x)),negative_slope=0.2)\n",
        "        x = F.leaky_relu(self.bn1_3(self.conv1_3(x)),negative_slope=0.2)\n",
        "\n",
        "        x = F.leaky_relu(self.bn2_1(self.conv2_1(x)),negative_slope=0.2)\n",
        "        x = F.leaky_relu(self.bn2_2(self.conv2_2(x)),negative_slope=0.2)\n",
        "        x = F.leaky_relu(self.bn2_3(self.conv2_3(x)),negative_slope=0.2)\n",
        "\n",
        "        x = F.leaky_relu(self.bn3_1(self.conv3_1(x)),negative_slope=0.2)\n",
        "        x = F.leaky_relu(self.bn3_2(self.conv3_2(x)),negative_slope=0.2)\n",
        "        x = F.leaky_relu(self.bn3_3(self.conv3_3(x)),negative_slope=0.2)\n",
        "        \n",
        "        x = self.conv4(x)\n",
        "        return x.view(-1, 1)\n",
        "\n",
        "gen = Discriminator()\n",
        "test = torch.randn(10,3,img_size[0],img_size[1])\n",
        "gen(test).shape"
      ],
      "execution_count": 0,
      "outputs": [
        {
          "output_type": "execute_result",
          "data": {
            "text/plain": [
              "torch.Size([10, 1])"
            ]
          },
          "metadata": {
            "tags": []
          },
          "execution_count": 7
        }
      ]
    },
    {
      "cell_type": "code",
      "metadata": {
        "id": "dWqBBei4Wig_",
        "colab_type": "code",
        "colab": {}
      },
      "source": [
        "def compute_gradient_penalty(D, real_samples, fake_samples):\n",
        "    \"\"\"Calculates the gradient penalty loss for WGAN GP\"\"\"\n",
        "    # Random weight term for interpolation between real and fake samples\n",
        "    alpha = torch.cuda.FloatTensor(np.random.random((real_samples.size(0), 1, 1, 1)))\n",
        "    # Get random interpolation between real and fake samples\n",
        "    interpolates = (alpha * real_samples + ((1 - alpha) * fake_samples)).requires_grad_(True)\n",
        "    d_interpolates = D(interpolates)\n",
        "    fake = torch.cuda.FloatTensor(real_samples.shape[0], 1).fill_(1.0).cuda().requires_grad_(False)\n",
        "    # Get gradient w.r.t. interpolates\n",
        "    gradients = torch.autograd.grad(\n",
        "        outputs=d_interpolates,\n",
        "        inputs=interpolates,\n",
        "        grad_outputs=fake,\n",
        "        create_graph=True,\n",
        "        retain_graph=True,\n",
        "        only_inputs=True,\n",
        "    )[0]\n",
        "    gradients = gradients.view(gradients.size(0), -1)\n",
        "    gradient_penalty = ((gradients.norm(2, dim=1) - 1) ** 2).mean()\n",
        "    return gradient_penalty"
      ],
      "execution_count": 0,
      "outputs": []
    },
    {
      "cell_type": "code",
      "metadata": {
        "colab_type": "code",
        "id": "wy-y1suzya8V",
        "colab": {}
      },
      "source": [
        "LATENT_SIZE = 100\n",
        "BATCH_SIZE = 32\n",
        "generator_model = Generator().cuda()\n",
        "discriminator_model = Discriminator().cuda()\n",
        "hdf5_dataloader = DataLoader(hdf5_dataset, batch_size=BATCH_SIZE, shuffle=True, num_workers=0)\n",
        "bce_loss = nn.BCELoss()"
      ],
      "execution_count": 0,
      "outputs": []
    },
    {
      "cell_type": "code",
      "metadata": {
        "colab_type": "code",
        "id": "eVErwA_bya8d",
        "colab": {}
      },
      "source": [
        "%%time\n",
        "NUM_EPOCHS = 1\n",
        "optimizer_G = torch.optim.Adam(generator_model.parameters(), lr = 1e-4, betas=(0.5, 0.999))\n",
        "optimizer_D = torch.optim.Adam(discriminator_model.parameters(), lr = 1e-4, betas=(0.5, 0.999))\n",
        "#x = next(iter(hdf5_dataloader))\n",
        "\n",
        "disp_img = 100\n",
        "\n",
        "for epoch in range(NUM_EPOCHS):\n",
        "    # print(\"Epoch : \", epoch)\n",
        "    for iterate, x in enumerate(tqdm(hdf5_dataloader)):\n",
        "        \n",
        "        for i in range(2):\n",
        "        #   dataloader_iter = iter(hdf5_dataloader)\n",
        "            current_batch_size = BATCH_SIZE\n",
        "            #real_images = x.cuda()\n",
        "            #     print(real_images.shape)\n",
        "            batch_ones = torch.ones((current_batch_size, 1)).cuda()\n",
        "            batch_zeros = torch.zeros((current_batch_size, 1)).cuda()\n",
        "            # Generator Training\n",
        "            latent_vals = torch.randn((current_batch_size, LATENT_SIZE, 1, 1)).cuda()\n",
        "            # print(latent_vals.shape)\n",
        "            generated_fakes = generator_model(latent_vals)\n",
        "            discriminator_results_for_fakes = discriminator_model(generated_fakes)\n",
        "            #generator_loss = bce_loss(discriminator_results_for_fakes, batch_ones)\n",
        "            generator_loss = -torch.mean(discriminator_results_for_fakes)\n",
        "\n",
        "            optimizer_G.zero_grad()\n",
        "            generator_loss.backward()\n",
        "            optimizer_G.step()\n",
        "        \n",
        "        if iterate%disp_img==0:\n",
        "            c = 0\n",
        "            fig, ax = plt.subplots(3,3)\n",
        "            for pi in range(3):\n",
        "                for pj in range(3):\n",
        "                    ax[pi][pj].axis('off')\n",
        "                    ax[pi,pj].imshow(undo_normalize(generated_fakes[c].cpu().detach().numpy().transpose(1,2,0),127.5).astype(np.uint8))\n",
        "                    c+=1\n",
        "                    \n",
        "            plt.savefig(\"Gen_2X/Gen_images_{}_{}.png\".format(epoch, iterate))\n",
        "            plt.close()\n",
        "        \n",
        "        # Discriminator Training\n",
        "        #for i in range(2):\n",
        "          #x = next(dataloader_iter)  \n",
        "        current_batch_size = x.shape[0]\n",
        "        real_images = x.cuda()\n",
        "\n",
        "        \n",
        "        discriminator_results_for_true_imgs = discriminator_model(real_images)\n",
        "        discriminator_results_for_fakes = discriminator_model(generated_fakes.detach())\n",
        "        \n",
        "          # We detach the generated_fakes because we are only training discriminator in this \n",
        "          # phase. detach() prevents the gradients from being propagated\n",
        "          #import pdb;pdb.set_trace()\n",
        "          \n",
        "          #fake_loss = bce_loss(discriminator_results_for_fakes, batch_zeros)\n",
        "          #real_loss = bce_loss(discriminator_results_for_true_imgs, batch_ones)\n",
        "        real_loss = torch.mean( discriminator_results_for_true_imgs)\n",
        "        fake_loss = torch.mean( discriminator_results_for_fakes )\n",
        "        gradient_penalty = compute_gradient_penalty(discriminator_model, real_images, generated_fakes.detach())\n",
        "          #total_loss = fake_loss + real_loss\n",
        "        total_loss = - (real_loss - fake_loss) + 10 * gradient_penalty\n",
        "        optimizer_D.zero_grad()\n",
        "        total_loss.backward()\n",
        "        optimizer_D.step()\n",
        "          \n",
        "        for p in discriminator_model.parameters():\n",
        "            p.data.clamp_(-0.01, 0.01)"
      ],
      "execution_count": 0,
      "outputs": []
    },
    {
      "cell_type": "code",
      "metadata": {
        "id": "oB_Ruqzfcn4p",
        "colab_type": "code",
        "colab": {}
      },
      "source": [
        "%debug"
      ],
      "execution_count": 0,
      "outputs": []
    },
    {
      "cell_type": "code",
      "metadata": {
        "colab_type": "code",
        "id": "7-TnnYRrya8h",
        "colab": {}
      },
      "source": [
        "himport matplotlib.pyplot as plt"
      ],
      "execution_count": 0,
      "outputs": []
    },
    {
      "cell_type": "code",
      "metadata": {
        "colab_type": "code",
        "id": "bP20neKDya8l",
        "outputId": "4b34a29b-890a-46ce-8ef7-ceb4127c6fd7",
        "colab": {}
      },
      "source": [
        "test_latent = torch.randn((1, LATENT_SIZE)).cuda()\n",
        "\n",
        "test_gen_image = generator_model(test_latent)\n",
        "print(test_gen_image.shape)\n",
        "\n",
        "numpy_img = test_gen_image.squeeze().cpu().detach().numpy().transpose(1,2,0)\n",
        "\n",
        "numpy_img = undo_normalize(numpy_img, 127.5)\n",
        "print(numpy_img.max())\n",
        "plt.imshow(numpy_img.astype(np.uint8))"
      ],
      "execution_count": 0,
      "outputs": [
        {
          "output_type": "error",
          "ename": "RuntimeError",
          "evalue": "Expected 4-dimensional input for 4-dimensional weight 100 1024, but got 2-dimensional input of size [1, 100] instead",
          "traceback": [
            "\u001b[0;31m---------------------------------------------------------------------------\u001b[0m",
            "\u001b[0;31mRuntimeError\u001b[0m                              Traceback (most recent call last)",
            "\u001b[0;32m<ipython-input-11-f1df892ff8c7>\u001b[0m in \u001b[0;36m<module>\u001b[0;34m\u001b[0m\n\u001b[1;32m      1\u001b[0m \u001b[0mtest_latent\u001b[0m \u001b[0;34m=\u001b[0m \u001b[0mtorch\u001b[0m\u001b[0;34m.\u001b[0m\u001b[0mrandn\u001b[0m\u001b[0;34m(\u001b[0m\u001b[0;34m(\u001b[0m\u001b[0;36m1\u001b[0m\u001b[0;34m,\u001b[0m \u001b[0mLATENT_SIZE\u001b[0m\u001b[0;34m)\u001b[0m\u001b[0;34m)\u001b[0m\u001b[0;34m.\u001b[0m\u001b[0mcuda\u001b[0m\u001b[0;34m(\u001b[0m\u001b[0;34m)\u001b[0m\u001b[0;34m\u001b[0m\u001b[0;34m\u001b[0m\u001b[0m\n\u001b[1;32m      2\u001b[0m \u001b[0;34m\u001b[0m\u001b[0m\n\u001b[0;32m----> 3\u001b[0;31m \u001b[0mtest_gen_image\u001b[0m \u001b[0;34m=\u001b[0m \u001b[0mgenerator_model\u001b[0m\u001b[0;34m(\u001b[0m\u001b[0mtest_latent\u001b[0m\u001b[0;34m)\u001b[0m\u001b[0;34m\u001b[0m\u001b[0;34m\u001b[0m\u001b[0m\n\u001b[0m\u001b[1;32m      4\u001b[0m \u001b[0mprint\u001b[0m\u001b[0;34m(\u001b[0m\u001b[0mtest_gen_image\u001b[0m\u001b[0;34m.\u001b[0m\u001b[0mshape\u001b[0m\u001b[0;34m)\u001b[0m\u001b[0;34m\u001b[0m\u001b[0;34m\u001b[0m\u001b[0m\n\u001b[1;32m      5\u001b[0m \u001b[0;34m\u001b[0m\u001b[0m\n",
            "\u001b[0;32m/opt/anaconda3/lib/python3.7/site-packages/torch/nn/modules/module.py\u001b[0m in \u001b[0;36m__call__\u001b[0;34m(self, *input, **kwargs)\u001b[0m\n\u001b[1;32m    545\u001b[0m             \u001b[0mresult\u001b[0m \u001b[0;34m=\u001b[0m \u001b[0mself\u001b[0m\u001b[0;34m.\u001b[0m\u001b[0m_slow_forward\u001b[0m\u001b[0;34m(\u001b[0m\u001b[0;34m*\u001b[0m\u001b[0minput\u001b[0m\u001b[0;34m,\u001b[0m \u001b[0;34m**\u001b[0m\u001b[0mkwargs\u001b[0m\u001b[0;34m)\u001b[0m\u001b[0;34m\u001b[0m\u001b[0;34m\u001b[0m\u001b[0m\n\u001b[1;32m    546\u001b[0m         \u001b[0;32melse\u001b[0m\u001b[0;34m:\u001b[0m\u001b[0;34m\u001b[0m\u001b[0;34m\u001b[0m\u001b[0m\n\u001b[0;32m--> 547\u001b[0;31m             \u001b[0mresult\u001b[0m \u001b[0;34m=\u001b[0m \u001b[0mself\u001b[0m\u001b[0;34m.\u001b[0m\u001b[0mforward\u001b[0m\u001b[0;34m(\u001b[0m\u001b[0;34m*\u001b[0m\u001b[0minput\u001b[0m\u001b[0;34m,\u001b[0m \u001b[0;34m**\u001b[0m\u001b[0mkwargs\u001b[0m\u001b[0;34m)\u001b[0m\u001b[0;34m\u001b[0m\u001b[0;34m\u001b[0m\u001b[0m\n\u001b[0m\u001b[1;32m    548\u001b[0m         \u001b[0;32mfor\u001b[0m \u001b[0mhook\u001b[0m \u001b[0;32min\u001b[0m \u001b[0mself\u001b[0m\u001b[0;34m.\u001b[0m\u001b[0m_forward_hooks\u001b[0m\u001b[0;34m.\u001b[0m\u001b[0mvalues\u001b[0m\u001b[0;34m(\u001b[0m\u001b[0;34m)\u001b[0m\u001b[0;34m:\u001b[0m\u001b[0;34m\u001b[0m\u001b[0;34m\u001b[0m\u001b[0m\n\u001b[1;32m    549\u001b[0m             \u001b[0mhook_result\u001b[0m \u001b[0;34m=\u001b[0m \u001b[0mhook\u001b[0m\u001b[0;34m(\u001b[0m\u001b[0mself\u001b[0m\u001b[0;34m,\u001b[0m \u001b[0minput\u001b[0m\u001b[0;34m,\u001b[0m \u001b[0mresult\u001b[0m\u001b[0;34m)\u001b[0m\u001b[0;34m\u001b[0m\u001b[0;34m\u001b[0m\u001b[0m\n",
            "\u001b[0;32m<ipython-input-6-73529e94cadd>\u001b[0m in \u001b[0;36mforward\u001b[0;34m(self, latent_vector)\u001b[0m\n\u001b[1;32m     22\u001b[0m \u001b[0;34m\u001b[0m\u001b[0m\n\u001b[1;32m     23\u001b[0m     \u001b[0;32mdef\u001b[0m \u001b[0mforward\u001b[0m\u001b[0;34m(\u001b[0m\u001b[0mself\u001b[0m\u001b[0;34m,\u001b[0m \u001b[0mlatent_vector\u001b[0m\u001b[0;34m)\u001b[0m\u001b[0;34m:\u001b[0m\u001b[0;34m\u001b[0m\u001b[0;34m\u001b[0m\u001b[0m\n\u001b[0;32m---> 24\u001b[0;31m         \u001b[0mx\u001b[0m \u001b[0;34m=\u001b[0m \u001b[0mF\u001b[0m\u001b[0;34m.\u001b[0m\u001b[0mrelu\u001b[0m\u001b[0;34m(\u001b[0m\u001b[0mself\u001b[0m\u001b[0;34m.\u001b[0m\u001b[0mbn1_1\u001b[0m\u001b[0;34m(\u001b[0m\u001b[0mself\u001b[0m\u001b[0;34m.\u001b[0m\u001b[0mconv1_1\u001b[0m\u001b[0;34m(\u001b[0m\u001b[0mlatent_vector\u001b[0m\u001b[0;34m)\u001b[0m\u001b[0;34m)\u001b[0m\u001b[0;34m)\u001b[0m\u001b[0;34m\u001b[0m\u001b[0;34m\u001b[0m\u001b[0m\n\u001b[0m\u001b[1;32m     25\u001b[0m         \u001b[0mx\u001b[0m \u001b[0;34m=\u001b[0m \u001b[0mF\u001b[0m\u001b[0;34m.\u001b[0m\u001b[0mrelu\u001b[0m\u001b[0;34m(\u001b[0m\u001b[0mself\u001b[0m\u001b[0;34m.\u001b[0m\u001b[0mbn1_2\u001b[0m\u001b[0;34m(\u001b[0m\u001b[0mself\u001b[0m\u001b[0;34m.\u001b[0m\u001b[0mconv1_2\u001b[0m\u001b[0;34m(\u001b[0m\u001b[0mx\u001b[0m\u001b[0;34m)\u001b[0m\u001b[0;34m)\u001b[0m\u001b[0;34m)\u001b[0m\u001b[0;34m\u001b[0m\u001b[0;34m\u001b[0m\u001b[0m\n\u001b[1;32m     26\u001b[0m \u001b[0;34m\u001b[0m\u001b[0m\n",
            "\u001b[0;32m/opt/anaconda3/lib/python3.7/site-packages/torch/nn/modules/module.py\u001b[0m in \u001b[0;36m__call__\u001b[0;34m(self, *input, **kwargs)\u001b[0m\n\u001b[1;32m    545\u001b[0m             \u001b[0mresult\u001b[0m \u001b[0;34m=\u001b[0m \u001b[0mself\u001b[0m\u001b[0;34m.\u001b[0m\u001b[0m_slow_forward\u001b[0m\u001b[0;34m(\u001b[0m\u001b[0;34m*\u001b[0m\u001b[0minput\u001b[0m\u001b[0;34m,\u001b[0m \u001b[0;34m**\u001b[0m\u001b[0mkwargs\u001b[0m\u001b[0;34m)\u001b[0m\u001b[0;34m\u001b[0m\u001b[0;34m\u001b[0m\u001b[0m\n\u001b[1;32m    546\u001b[0m         \u001b[0;32melse\u001b[0m\u001b[0;34m:\u001b[0m\u001b[0;34m\u001b[0m\u001b[0;34m\u001b[0m\u001b[0m\n\u001b[0;32m--> 547\u001b[0;31m             \u001b[0mresult\u001b[0m \u001b[0;34m=\u001b[0m \u001b[0mself\u001b[0m\u001b[0;34m.\u001b[0m\u001b[0mforward\u001b[0m\u001b[0;34m(\u001b[0m\u001b[0;34m*\u001b[0m\u001b[0minput\u001b[0m\u001b[0;34m,\u001b[0m \u001b[0;34m**\u001b[0m\u001b[0mkwargs\u001b[0m\u001b[0;34m)\u001b[0m\u001b[0;34m\u001b[0m\u001b[0;34m\u001b[0m\u001b[0m\n\u001b[0m\u001b[1;32m    548\u001b[0m         \u001b[0;32mfor\u001b[0m \u001b[0mhook\u001b[0m \u001b[0;32min\u001b[0m \u001b[0mself\u001b[0m\u001b[0;34m.\u001b[0m\u001b[0m_forward_hooks\u001b[0m\u001b[0;34m.\u001b[0m\u001b[0mvalues\u001b[0m\u001b[0;34m(\u001b[0m\u001b[0;34m)\u001b[0m\u001b[0;34m:\u001b[0m\u001b[0;34m\u001b[0m\u001b[0;34m\u001b[0m\u001b[0m\n\u001b[1;32m    549\u001b[0m             \u001b[0mhook_result\u001b[0m \u001b[0;34m=\u001b[0m \u001b[0mhook\u001b[0m\u001b[0;34m(\u001b[0m\u001b[0mself\u001b[0m\u001b[0;34m,\u001b[0m \u001b[0minput\u001b[0m\u001b[0;34m,\u001b[0m \u001b[0mresult\u001b[0m\u001b[0;34m)\u001b[0m\u001b[0;34m\u001b[0m\u001b[0;34m\u001b[0m\u001b[0m\n",
            "\u001b[0;32m/opt/anaconda3/lib/python3.7/site-packages/torch/nn/modules/conv.py\u001b[0m in \u001b[0;36mforward\u001b[0;34m(self, input, output_size)\u001b[0m\n\u001b[1;32m    785\u001b[0m         return F.conv_transpose2d(\n\u001b[1;32m    786\u001b[0m             \u001b[0minput\u001b[0m\u001b[0;34m,\u001b[0m \u001b[0mself\u001b[0m\u001b[0;34m.\u001b[0m\u001b[0mweight\u001b[0m\u001b[0;34m,\u001b[0m \u001b[0mself\u001b[0m\u001b[0;34m.\u001b[0m\u001b[0mbias\u001b[0m\u001b[0;34m,\u001b[0m \u001b[0mself\u001b[0m\u001b[0;34m.\u001b[0m\u001b[0mstride\u001b[0m\u001b[0;34m,\u001b[0m \u001b[0mself\u001b[0m\u001b[0;34m.\u001b[0m\u001b[0mpadding\u001b[0m\u001b[0;34m,\u001b[0m\u001b[0;34m\u001b[0m\u001b[0;34m\u001b[0m\u001b[0m\n\u001b[0;32m--> 787\u001b[0;31m             output_padding, self.groups, self.dilation)\n\u001b[0m\u001b[1;32m    788\u001b[0m \u001b[0;34m\u001b[0m\u001b[0m\n\u001b[1;32m    789\u001b[0m \u001b[0;34m\u001b[0m\u001b[0m\n",
            "\u001b[0;31mRuntimeError\u001b[0m: Expected 4-dimensional input for 4-dimensional weight 100 1024, but got 2-dimensional input of size [1, 100] instead"
          ]
        }
      ]
    },
    {
      "cell_type": "code",
      "metadata": {
        "colab_type": "code",
        "id": "iqWkh0bpya8q",
        "colab": {}
      },
      "source": [
        ""
      ],
      "execution_count": 0,
      "outputs": []
    }
  ]
}