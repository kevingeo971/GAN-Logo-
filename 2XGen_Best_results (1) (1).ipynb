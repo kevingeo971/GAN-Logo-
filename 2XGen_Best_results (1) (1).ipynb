{
 "cells": [
  {
   "cell_type": "code",
   "execution_count": 1,
   "metadata": {
    "colab": {
     "base_uri": "https://localhost:8080/",
     "height": 204
    },
    "colab_type": "code",
    "id": "PLnxRRqVya4R",
    "outputId": "e494f1b6-0f66-4a6a-bb64-808548e73ff2"
   },
   "outputs": [],
   "source": [
    "#V100\n",
    "#!wget https://data.vision.ee.ethz.ch/sagea/lld/data/LLD-logo.hdf5"
   ]
  },
  {
   "cell_type": "code",
   "execution_count": 2,
   "metadata": {
    "colab": {},
    "colab_type": "code",
    "id": "Q13Xtqbsya4q"
   },
   "outputs": [],
   "source": [
    "import torch \n",
    "import numpy as np\n",
    "import torch.nn as nn\n",
    "import torch.nn.functional as F\n",
    "from torch.utils.data import Dataset, DataLoader\n",
    "from torchvision import datasets, transforms\n",
    "from tqdm import tqdm_notebook, trange, tqdm\n",
    "import torchvision.transforms.functional as TF\n",
    "import torch.optim as optim\n",
    "import h5py\n",
    "import matplotlib.pyplot as plt\n",
    "from PIL import Image\n",
    "import cv2\n",
    "%matplotlib inline"
   ]
  },
  {
   "cell_type": "code",
   "execution_count": 3,
   "metadata": {},
   "outputs": [],
   "source": [
    "hdf5_path='LLD-logo.hdf5'\n",
    "hdf5_file = h5py.File(hdf5_path, 'r')"
   ]
  },
  {
   "cell_type": "code",
   "execution_count": 4,
   "metadata": {},
   "outputs": [
    {
     "data": {
      "text/plain": [
       "(18, 5736)"
      ]
     },
     "execution_count": 4,
     "metadata": {},
     "output_type": "execute_result"
    }
   ],
   "source": [
    "x = np.array(hdf5_file['labels']['resnet']['rc_64'][:])\n",
    "max_ind = 0\n",
    "max_i = 0\n",
    "for i in range(32):\n",
    "    ind = np.argwhere( x == i )\n",
    "    if ind.shape[0]>max_ind:\n",
    "        max_ind = ind.shape[0]\n",
    "        max_i = i\n",
    "        \n",
    "max_i, max_ind"
   ]
  },
  {
   "cell_type": "code",
   "execution_count": 5,
   "metadata": {},
   "outputs": [
    {
     "data": {
      "text/plain": [
       "1634"
      ]
     },
     "execution_count": 5,
     "metadata": {},
     "output_type": "execute_result"
    }
   ],
   "source": [
    "x = np.array(hdf5_file['labels']['resnet']['rc_64'][:])\n",
    "ind = np.argwhere(x == 20).squeeze().tolist()\n",
    "len(ind)"
   ]
  },
  {
   "cell_type": "code",
   "execution_count": null,
   "metadata": {},
   "outputs": [],
   "source": []
  },
  {
   "cell_type": "code",
   "execution_count": 6,
   "metadata": {
    "colab": {},
    "colab_type": "code",
    "id": "Em5rXEQgya5a"
   },
   "outputs": [],
   "source": [
    "img_size = (32, 32)\n",
    "class HDF5LogoDataLoader(Dataset):\n",
    "    def __init__(self, cluster_indices, hdf5_path='LLD-logo.hdf5', resize_shape=img_size):\n",
    "        self.hdf5_file = h5py.File(hdf5_path, 'r')\n",
    "        self.images = self.hdf5_file['data']\n",
    "        self.shapes = self.hdf5_file['shapes']\n",
    "        self.resize_shape = resize_shape\n",
    "        self.cluster_indices = cluster_indices\n",
    "\n",
    "    def __len__(self):\n",
    "        return len(self.cluster_indices)\n",
    "\n",
    "    def transform_image(self, image):\n",
    "        image = image.transpose(1, 2, 0)\n",
    "        img_resized = cv2.resize(image, dsize=self.resize_shape)\n",
    "        img_resized_tensor = TF.to_tensor(img_resized)\n",
    "        # print(img_resized_tensor.max())\n",
    "        normalize_img = TF.normalize(img_resized_tensor, mean=[127.5,127.5,127.5], std=[127.5,127.5,127.5])\n",
    "        # print(normalize_img.max())\n",
    "        # print(normalize_img.min())\n",
    "        return normalize_img\n",
    "\n",
    "    def __getitem__(self, idx):\n",
    "        actual_index = self.cluster_indices[idx]\n",
    "        img_shape = self.shapes[actual_index]\n",
    "        # print(self.images[idx].shape)\n",
    "        img_without_padding = self.images[actual_index][:, :img_shape[1], :img_shape[2]]\n",
    "        return self.transform_image(img_without_padding)"
   ]
  },
  {
   "cell_type": "code",
   "execution_count": 7,
   "metadata": {
    "colab": {},
    "colab_type": "code",
    "id": "d2-C0465ya5y"
   },
   "outputs": [],
   "source": [
    "hdf5_dataset = HDF5LogoDataLoader(ind)"
   ]
  },
  {
   "cell_type": "code",
   "execution_count": 8,
   "metadata": {
    "colab": {},
    "colab_type": "code",
    "id": "tl6U16pbya6D"
   },
   "outputs": [],
   "source": [
    "def undo_normalize(t, val):\n",
    " return t*val + val"
   ]
  },
  {
   "cell_type": "code",
   "execution_count": 9,
   "metadata": {
    "colab": {},
    "colab_type": "code",
    "id": "CXWMtxq1ya7k"
   },
   "outputs": [],
   "source": [
    "img_size = (32, 32)"
   ]
  },
  {
   "cell_type": "code",
   "execution_count": 10,
   "metadata": {
    "colab": {
     "base_uri": "https://localhost:8080/",
     "height": 300
    },
    "colab_type": "code",
    "id": "vjLGrJ6nya76",
    "outputId": "c87b361c-df0e-4a85-c2d7-63e3806345e3"
   },
   "outputs": [
    {
     "name": "stdout",
     "output_type": "stream",
     "text": [
      "torch.Size([10, 3, 32, 32])\n"
     ]
    },
    {
     "data": {
      "text/plain": [
       "<matplotlib.image.AxesImage at 0x7f528402d990>"
      ]
     },
     "execution_count": 10,
     "metadata": {},
     "output_type": "execute_result"
    },
    {
     "data": {
      "image/png": "[encoded data removed]",
      "text/plain": [
       "<Figure size 432x288 with 1 Axes>"
      ]
     },
     "metadata": {
      "needs_background": "light"
     },
     "output_type": "display_data"
    }
   ],
   "source": [
    "class Generator(nn.Module):\n",
    "    \n",
    "    def __init__(self):\n",
    "        super(Generator, self).__init__()\n",
    "        \n",
    "        self.conv1_1 = nn.ConvTranspose2d(100, 1024, 4, 1)\n",
    "        self.bn1_1 = nn.BatchNorm2d(1024)\n",
    "        self.conv1_2 = nn.ConvTranspose2d(1024, 1024, 3)\n",
    "        self.bn1_2 = nn.BatchNorm2d(1024)\n",
    "        \n",
    "        self.conv2_1 = nn.ConvTranspose2d(1024, 512, 4, 2, 1)\n",
    "        self.bn2_1 = nn.BatchNorm2d(512)\n",
    "        self.conv2_2 = nn.ConvTranspose2d(512, 512, 3)\n",
    "        self.bn2_2 = nn.BatchNorm2d(512)\n",
    "        \n",
    "        self.conv3_1 = nn.ConvTranspose2d(512, 256, 4, 2, 1)\n",
    "        self.bn3_1 = nn.BatchNorm2d(256)\n",
    "        self.conv3_2 = nn.ConvTranspose2d(256, 256, 3)\n",
    "        self.bn3_2 = nn.BatchNorm2d(256)\n",
    "        \n",
    "        self.conv4 = nn.ConvTranspose2d(256, 3, 3)\n",
    "  \n",
    "    def forward(self, latent_vector):\n",
    "        x = F.relu(self.bn1_1(self.conv1_1(latent_vector)))\n",
    "        x = F.relu(self.bn1_2(self.conv1_2(x)))\n",
    "        \n",
    "        x = F.relu(self.bn2_1(self.conv2_1(x)))\n",
    "        x = F.relu(self.bn2_2(self.conv2_2(x)))\n",
    "        \n",
    "        x = F.relu(self.bn3_1(self.conv3_1(x)))\n",
    "        x = F.relu(self.bn3_2(self.conv3_2(x)))\n",
    "\n",
    "        x = torch.tanh(self.conv4(x))\n",
    "        return x\n",
    "\n",
    "gen = Generator()\n",
    "test = torch.randn(10, 100, 1, 1)\n",
    "gen(test).shape\n",
    "\n",
    "output = gen(test)\n",
    "print(output.shape)\n",
    "plt.imshow(undo_normalize(output[0], 127.5).detach().numpy().transpose(1, 2, 0).astype(np.uint8))"
   ]
  },
  {
   "cell_type": "code",
   "execution_count": 11,
   "metadata": {
    "colab": {
     "base_uri": "https://localhost:8080/",
     "height": 34
    },
    "colab_type": "code",
    "id": "Z8ymxL6Fya8A",
    "outputId": "05a2f8a1-2f2b-495f-d279-48a379ce6785"
   },
   "outputs": [
    {
     "data": {
      "text/plain": [
       "torch.Size([10, 1])"
      ]
     },
     "execution_count": 11,
     "metadata": {},
     "output_type": "execute_result"
    }
   ],
   "source": [
    "class Discriminator(nn.Module):\n",
    "\n",
    "    def __init__  (self):\n",
    "\n",
    "        super(Discriminator, self).__init__()\n",
    "        \n",
    "        self.conv1_1 = nn.Conv2d(3, 256, 4, 2, 2)\n",
    "        self.bn1_1 = nn.BatchNorm2d(256)\n",
    "        self.conv1_2 = nn.Conv2d(256, 256, 3)\n",
    "        self.bn1_2 = nn.BatchNorm2d(256)\n",
    "\n",
    "        self.conv2_1 = nn.Conv2d(256, 512, 4, 2, 2)\n",
    "        self.bn2_1 = nn.BatchNorm2d(512)\n",
    "        self.conv2_2 = nn.Conv2d(512, 512, 3)\n",
    "        self.bn2_2 = nn.BatchNorm2d(512)\n",
    "\n",
    "        self.conv3_1 = nn.Conv2d(512, 1024, 4, 2, 2)\n",
    "        self.bn3_1 = nn.BatchNorm2d(1024)\n",
    "        self.conv3_2 = nn.Conv2d(1024, 1024, 3)\n",
    "        self.bn3_2 = nn.BatchNorm2d(1024)\n",
    "        \n",
    "        self.conv4 = nn.Conv2d(1024, 1, 2)\n",
    "        \n",
    "        #self.fc2 = nn.Linear(512, 1)\n",
    "\n",
    "    def forward(self, img):\n",
    "        x = F.leaky_relu(self.bn1_1(self.conv1_1(img)),negative_slope=0.2)\n",
    "        x = F.leaky_relu(self.bn1_2(self.conv1_2(x)),negative_slope=0.2)\n",
    "\n",
    "        x = F.leaky_relu(self.bn2_1(self.conv2_1(x)),negative_slope=0.2)\n",
    "        x = F.leaky_relu(self.bn2_2(self.conv2_2(x)),negative_slope=0.2)\n",
    "\n",
    "        x = F.leaky_relu(self.bn3_1(self.conv3_1(x)),negative_slope=0.2)\n",
    "        x = F.leaky_relu(self.bn3_2(self.conv3_2(x)),negative_slope=0.2)\n",
    "        \n",
    "        x = self.conv4(x)\n",
    "        return x.view(-1, 1)\n",
    "\n",
    "gen = Discriminator()\n",
    "test = torch.randn(10,3,img_size[0],img_size[1])\n",
    "gen(test).shape"
   ]
  },
  {
   "cell_type": "code",
   "execution_count": 12,
   "metadata": {
    "colab": {},
    "colab_type": "code",
    "id": "wy-y1suzya8V"
   },
   "outputs": [],
   "source": [
    "LATENT_SIZE = 100\n",
    "BATCH_SIZE = 64\n",
    "generator_model = Generator().cuda()\n",
    "discriminator_model = Discriminator().cuda()\n",
    "hdf5_dataloader = DataLoader(hdf5_dataset, batch_size=BATCH_SIZE, shuffle=True, num_workers=1)\n",
    "bce_loss = nn.BCELoss()"
   ]
  },
  {
   "cell_type": "code",
   "execution_count": null,
   "metadata": {
    "colab": {
     "base_uri": "https://localhost:8080/",
     "height": 1000
    },
    "colab_type": "code",
    "id": "eVErwA_bya8d",
    "outputId": "409b9db9-ea57-4c8f-b017-0f8f0a55575a"
   },
   "outputs": [
    {
     "name": "stderr",
     "output_type": "stream",
     "text": [
      "100%|██████████| 26/26 [00:07<00:00,  3.42it/s]\n",
      "100%|██████████| 26/26 [00:07<00:00,  3.45it/s]\n",
      "100%|██████████| 26/26 [00:07<00:00,  3.47it/s]\n",
      "100%|██████████| 26/26 [00:07<00:00,  3.52it/s]\n",
      "100%|██████████| 26/26 [00:07<00:00,  3.45it/s]\n",
      "100%|██████████| 26/26 [00:07<00:00,  3.47it/s]\n",
      "100%|██████████| 26/26 [00:07<00:00,  3.53it/s]\n",
      "100%|██████████| 26/26 [00:07<00:00,  3.48it/s]\n",
      "100%|██████████| 26/26 [00:07<00:00,  3.54it/s]\n",
      "100%|██████████| 26/26 [00:07<00:00,  3.51it/s]\n",
      "100%|██████████| 26/26 [00:07<00:00,  3.54it/s]\n",
      "100%|██████████| 26/26 [00:07<00:00,  3.42it/s]\n",
      "100%|██████████| 26/26 [00:07<00:00,  3.52it/s]\n",
      "100%|██████████| 26/26 [00:07<00:00,  3.50it/s]\n",
      "100%|██████████| 26/26 [00:07<00:00,  3.44it/s]\n",
      "100%|██████████| 26/26 [00:07<00:00,  3.39it/s]\n",
      "100%|██████████| 26/26 [00:07<00:00,  3.49it/s]\n",
      "100%|██████████| 26/26 [00:07<00:00,  3.51it/s]\n",
      "100%|██████████| 26/26 [00:07<00:00,  3.44it/s]\n",
      "100%|██████████| 26/26 [00:07<00:00,  3.47it/s]\n",
      "100%|██████████| 26/26 [00:07<00:00,  3.46it/s]\n",
      "100%|██████████| 26/26 [00:07<00:00,  3.34it/s]\n",
      "100%|██████████| 26/26 [00:07<00:00,  3.47it/s]\n",
      "100%|██████████| 26/26 [00:07<00:00,  3.54it/s]\n",
      "100%|██████████| 26/26 [00:07<00:00,  3.43it/s]\n",
      "100%|██████████| 26/26 [00:07<00:00,  3.51it/s]\n",
      "100%|██████████| 26/26 [00:07<00:00,  3.51it/s]\n",
      "100%|██████████| 26/26 [00:07<00:00,  3.51it/s]\n",
      "100%|██████████| 26/26 [00:08<00:00,  3.22it/s]\n",
      "100%|██████████| 26/26 [00:07<00:00,  3.47it/s]\n",
      "100%|██████████| 26/26 [00:07<00:00,  3.45it/s]\n",
      "100%|██████████| 26/26 [00:07<00:00,  3.48it/s]\n",
      "100%|██████████| 26/26 [00:07<00:00,  3.51it/s]\n",
      "100%|██████████| 26/26 [00:07<00:00,  3.51it/s]\n",
      "100%|██████████| 26/26 [00:07<00:00,  3.41it/s]\n",
      "100%|██████████| 26/26 [00:07<00:00,  3.53it/s]\n",
      "100%|██████████| 26/26 [00:07<00:00,  3.49it/s]\n",
      "100%|██████████| 26/26 [00:08<00:00,  3.07it/s]\n",
      "100%|██████████| 26/26 [00:07<00:00,  3.44it/s]\n",
      "100%|██████████| 26/26 [00:07<00:00,  3.48it/s]\n",
      "100%|██████████| 26/26 [00:07<00:00,  3.48it/s]\n",
      "100%|██████████| 26/26 [00:07<00:00,  3.48it/s]\n",
      "100%|██████████| 26/26 [00:07<00:00,  3.33it/s]\n",
      "100%|██████████| 26/26 [00:07<00:00,  3.42it/s]\n",
      "100%|██████████| 26/26 [00:07<00:00,  3.47it/s]\n",
      "100%|██████████| 26/26 [00:07<00:00,  3.44it/s]\n",
      "100%|██████████| 26/26 [00:07<00:00,  3.49it/s]\n",
      "100%|██████████| 26/26 [00:08<00:00,  3.08it/s]\n",
      "100%|██████████| 26/26 [00:07<00:00,  3.47it/s]\n",
      "100%|██████████| 26/26 [00:07<00:00,  3.41it/s]\n",
      "100%|██████████| 26/26 [00:07<00:00,  3.51it/s]\n",
      "100%|██████████| 26/26 [00:07<00:00,  3.54it/s]\n",
      "100%|██████████| 26/26 [00:07<00:00,  3.53it/s]\n",
      "100%|██████████| 26/26 [00:07<00:00,  3.45it/s]\n",
      "100%|██████████| 26/26 [00:07<00:00,  3.46it/s]\n",
      "100%|██████████| 26/26 [00:07<00:00,  3.54it/s]\n",
      "100%|██████████| 26/26 [00:07<00:00,  3.49it/s]\n",
      "100%|██████████| 26/26 [00:07<00:00,  3.51it/s]\n",
      "100%|██████████| 26/26 [00:07<00:00,  3.51it/s]\n",
      "100%|██████████| 26/26 [00:07<00:00,  3.55it/s]\n",
      "100%|██████████| 26/26 [00:07<00:00,  3.41it/s]\n",
      "100%|██████████| 26/26 [00:09<00:00,  2.85it/s]\n",
      "100%|██████████| 26/26 [00:07<00:00,  3.46it/s]\n",
      "100%|██████████| 26/26 [00:07<00:00,  3.51it/s]\n",
      "100%|██████████| 26/26 [00:07<00:00,  3.49it/s]\n",
      "100%|██████████| 26/26 [00:07<00:00,  3.44it/s]\n",
      "100%|██████████| 26/26 [00:07<00:00,  3.41it/s]\n",
      "100%|██████████| 26/26 [00:07<00:00,  3.46it/s]\n",
      "100%|██████████| 26/26 [00:07<00:00,  3.50it/s]\n",
      "100%|██████████| 26/26 [00:07<00:00,  3.37it/s]\n",
      "100%|██████████| 26/26 [00:07<00:00,  3.43it/s]\n",
      "100%|██████████| 26/26 [00:07<00:00,  3.42it/s]\n",
      "100%|██████████| 26/26 [00:07<00:00,  3.46it/s]\n",
      "100%|██████████| 26/26 [00:07<00:00,  3.47it/s]\n",
      "100%|██████████| 26/26 [00:07<00:00,  3.47it/s]\n",
      "100%|██████████| 26/26 [00:07<00:00,  3.47it/s]\n",
      "100%|██████████| 26/26 [00:07<00:00,  3.47it/s]\n",
      "100%|██████████| 26/26 [00:07<00:00,  3.48it/s]\n",
      "100%|██████████| 26/26 [00:09<00:00,  2.66it/s]\n",
      "100%|██████████| 26/26 [00:07<00:00,  3.50it/s]\n",
      "100%|██████████| 26/26 [00:07<00:00,  3.46it/s]\n",
      "100%|██████████| 26/26 [00:07<00:00,  3.45it/s]\n",
      "100%|██████████| 26/26 [00:07<00:00,  3.37it/s]\n",
      "100%|██████████| 26/26 [00:07<00:00,  3.44it/s]\n",
      "100%|██████████| 26/26 [00:07<00:00,  3.40it/s]\n",
      "100%|██████████| 26/26 [00:07<00:00,  3.45it/s]\n",
      "100%|██████████| 26/26 [00:07<00:00,  3.45it/s]\n",
      "100%|██████████| 26/26 [00:07<00:00,  3.31it/s]\n",
      "100%|██████████| 26/26 [00:07<00:00,  3.48it/s]\n",
      "100%|██████████| 26/26 [00:07<00:00,  3.44it/s]\n",
      "100%|██████████| 26/26 [00:07<00:00,  3.46it/s]\n",
      "100%|██████████| 26/26 [00:07<00:00,  3.41it/s]\n",
      "100%|██████████| 26/26 [00:07<00:00,  3.44it/s]\n",
      "100%|██████████| 26/26 [00:07<00:00,  3.44it/s]\n",
      "100%|██████████| 26/26 [00:07<00:00,  3.47it/s]\n",
      "100%|██████████| 26/26 [00:07<00:00,  3.41it/s]\n",
      "100%|██████████| 26/26 [00:07<00:00,  3.33it/s]\n",
      "100%|██████████| 26/26 [00:07<00:00,  3.47it/s]\n",
      "100%|██████████| 26/26 [00:07<00:00,  3.43it/s]\n",
      "100%|██████████| 26/26 [00:10<00:00,  2.56it/s]\n",
      "100%|██████████| 26/26 [00:07<00:00,  3.45it/s]\n",
      "100%|██████████| 26/26 [00:07<00:00,  3.47it/s]\n",
      "100%|██████████| 26/26 [00:07<00:00,  3.35it/s]\n",
      "100%|██████████| 26/26 [00:07<00:00,  3.40it/s]\n",
      "100%|██████████| 26/26 [00:07<00:00,  3.46it/s]\n",
      "100%|██████████| 26/26 [00:07<00:00,  3.45it/s]\n",
      "100%|██████████| 26/26 [00:07<00:00,  3.47it/s]\n",
      "100%|██████████| 26/26 [00:07<00:00,  3.34it/s]\n",
      "100%|██████████| 26/26 [00:07<00:00,  3.47it/s]\n",
      "100%|██████████| 26/26 [00:07<00:00,  3.45it/s]\n",
      "100%|██████████| 26/26 [00:07<00:00,  3.48it/s]\n",
      "100%|██████████| 26/26 [00:07<00:00,  3.35it/s]\n",
      "100%|██████████| 26/26 [00:07<00:00,  3.37it/s]\n",
      "100%|██████████| 26/26 [00:07<00:00,  3.38it/s]\n",
      "100%|██████████| 26/26 [00:07<00:00,  3.46it/s]\n",
      "100%|██████████| 26/26 [00:07<00:00,  3.47it/s]\n",
      "100%|██████████| 26/26 [00:07<00:00,  3.47it/s]\n",
      "100%|██████████| 26/26 [00:07<00:00,  3.45it/s]\n",
      "100%|██████████| 26/26 [00:07<00:00,  3.43it/s]\n",
      "100%|██████████| 26/26 [00:07<00:00,  3.41it/s]\n",
      "100%|██████████| 26/26 [00:07<00:00,  3.35it/s]\n",
      "100%|██████████| 26/26 [00:07<00:00,  3.37it/s]\n",
      "100%|██████████| 26/26 [00:07<00:00,  3.42it/s]\n",
      "100%|██████████| 26/26 [00:07<00:00,  3.34it/s]\n",
      "100%|██████████| 26/26 [00:07<00:00,  3.35it/s]\n",
      "100%|██████████| 26/26 [00:10<00:00,  2.41it/s]\n",
      "100%|██████████| 26/26 [00:07<00:00,  3.43it/s]\n",
      "100%|██████████| 26/26 [00:07<00:00,  3.37it/s]\n",
      "100%|██████████| 26/26 [00:07<00:00,  3.42it/s]\n",
      "100%|██████████| 26/26 [00:07<00:00,  3.45it/s]\n",
      "100%|██████████| 26/26 [00:07<00:00,  3.45it/s]\n",
      "100%|██████████| 26/26 [00:07<00:00,  3.31it/s]\n",
      "100%|██████████| 26/26 [00:07<00:00,  3.40it/s]\n",
      "100%|██████████| 26/26 [00:07<00:00,  3.35it/s]\n",
      "100%|██████████| 26/26 [00:07<00:00,  3.43it/s]\n",
      " 38%|███▊      | 10/26 [00:03<00:04,  3.24it/s]"
     ]
    }
   ],
   "source": [
    "%%time\n",
    "NUM_EPOCHS = 200\n",
    "optimizer_G = torch.optim.Adam(generator_model.parameters(), lr = 1e-4, betas=(0.5, 0.999))\n",
    "optimizer_D = torch.optim.Adam(discriminator_model.parameters(), lr = 1e-4, betas=(0.5, 0.999))\n",
    "#x = next(iter(hdf5_dataloader))\n",
    "\n",
    "disp_img = 89\n",
    "\n",
    "gl = []\n",
    "dl = []\n",
    "\n",
    "for epoch in range(NUM_EPOCHS):\n",
    "    # print(\"Epoch : \", epoch)\n",
    "    for iterate, x in enumerate(tqdm(hdf5_dataloader)):\n",
    "        \n",
    "        for i in range(1):\n",
    "        #   dataloader_iter = iter(hdf5_dataloader)\n",
    "            current_batch_size = BATCH_SIZE\n",
    "            #real_images = x.cuda()\n",
    "            #     print(real_images.shape)\n",
    "            batch_ones = torch.ones((current_batch_size, 1)).cuda()\n",
    "            batch_zeros = torch.zeros((current_batch_size, 1)).cuda()\n",
    "            # Generator Training\n",
    "            latent_vals = torch.randn((current_batch_size, LATENT_SIZE, 1, 1)).cuda()\n",
    "            # print(latent_vals.shape)\n",
    "            generated_fakes = generator_model(latent_vals)\n",
    "            discriminator_results_for_fakes = discriminator_model(generated_fakes)\n",
    "            #generator_loss = bce_loss(discriminator_results_for_fakes, batch_ones)\n",
    "            generator_loss = -torch.mean( discriminator_results_for_fakes )\n",
    "    \n",
    "            gl.append( generator_loss.item() )\n",
    "            optimizer_G.zero_grad()\n",
    "            generator_loss.backward()\n",
    "            optimizer_G.step()\n",
    "        \n",
    "        if iterate%disp_img==0:\n",
    "            c = 0\n",
    "            fig, ax = plt.subplots(3,3)\n",
    "            for pi in range(3):\n",
    "                for pj in range(3):\n",
    "                    ax[pi][pj].axis('off')\n",
    "                    ax[pi,pj].imshow(undo_normalize(generated_fakes[c].cpu().detach().numpy().transpose(1,2,0),127.5).astype(np.uint8))\n",
    "                    c+=1\n",
    "                    \n",
    "            plt.savefig(\"Gen_2X/Gen_images_{}_{}.png\".format(epoch, iterate))\n",
    "            plt.close()\n",
    "        \n",
    "        # Discriminator Training\n",
    "        #for i in range(2):\n",
    "          #x = next(dataloader_iter)  \n",
    "        current_batch_size = x.shape[0]\n",
    "        real_images = x.cuda()\n",
    "        \n",
    "        if iterate%disp_img==0:\n",
    "            c = 0\n",
    "            fig, ax = plt.subplots(3,3)\n",
    "            for pi in range(3):\n",
    "                for pj in range(3):\n",
    "                    ax[pi][pj].axis('off')\n",
    "                    ax[pi,pj].imshow(undo_normalize(real_images[c].cpu().detach().numpy().transpose(1,2,0),127.5).astype(np.uint8))\n",
    "                    c+=1\n",
    "\n",
    "            plt.savefig(\"Real_images_{}_{}.png\".format(epoch, iterate))\n",
    "            plt.close()\n",
    "\n",
    "        discriminator_results_for_true_imgs = discriminator_model(real_images)\n",
    "        discriminator_results_for_fakes = discriminator_model(generated_fakes.detach())\n",
    "          # We detach the generated_fakes because we are only training discriminator in this \n",
    "          # phase. detach() prevents the gradients from being propagated\n",
    "          #import pdb;pdb.set_trace()\n",
    "          \n",
    "          #fake_loss = bce_loss(discriminator_results_for_fakes, batch_zeros)\n",
    "          #real_loss = bce_loss(discriminator_results_for_true_imgs, batch_ones)\n",
    "        real_loss = torch.mean( discriminator_results_for_true_imgs)\n",
    "        fake_loss = torch.mean( discriminator_results_for_fakes )\n",
    "          #total_loss = fake_loss + real_loss\n",
    "        total_loss = - (real_loss - fake_loss) \n",
    "        dl.append( total_loss.item() )\n",
    "        optimizer_D.zero_grad()\n",
    "        total_loss.backward()\n",
    "        optimizer_D.step()\n",
    "          \n",
    "        for p in discriminator_model.parameters():\n",
    "            p.data.clamp_(-0.01, 0.01)"
   ]
  },
  {
   "cell_type": "code",
   "execution_count": null,
   "metadata": {
    "colab": {},
    "colab_type": "code",
    "id": "7-TnnYRrya8h"
   },
   "outputs": [],
   "source": [
    "import matplotlib.pyplot as plt"
   ]
  },
  {
   "cell_type": "code",
   "execution_count": null,
   "metadata": {
    "colab": {},
    "colab_type": "code",
    "id": "bP20neKDya8l"
   },
   "outputs": [],
   "source": [
    "test_latent = torch.randn((1, LATENT_SIZE)).cuda()\n",
    "\n",
    "test_gen_image = generator_model(test_latent)\n",
    "print(test_gen_image.shape)\n",
    "\n",
    "numpy_img = test_gen_image.squeeze().cpu().detach().numpy().transpose(1,2,0)\n",
    "\n",
    "numpy_img = undo_normalize(numpy_img, 127.5)\n",
    "print(numpy_img.max())\n",
    "plt.imshow(numpy_img.astype(np.uint8))"
   ]
  },
  {
   "cell_type": "code",
   "execution_count": null,
   "metadata": {
    "colab": {},
    "colab_type": "code",
    "id": "iqWkh0bpya8q"
   },
   "outputs": [],
   "source": []
  }
 ],
 "metadata": {
  "accelerator": "GPU",
  "colab": {
   "name": "Copy_of_Computer_Vision_Project_Gan.ipynb",
   "provenance": []
  },
  "kernelspec": {
   "display_name": "Python 3",
   "language": "python",
   "name": "python3"
  },
  "language_info": {
   "codemirror_mode": {
    "name": "ipython",
    "version": 3
   },
   "file_extension": ".py",
   "mimetype": "text/x-python",
   "name": "python",
   "nbconvert_exporter": "python",
   "pygments_lexer": "ipython3",
   "version": "3.7.3"
  }
 },
 "nbformat": 4,
 "nbformat_minor": 4
}
